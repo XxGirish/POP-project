{
 "cells": [
  {
   "cell_type": "code",
   "execution_count": 18,
   "id": "1a996ac2-6537-4a7e-9a67-b4da09045915",
   "metadata": {},
   "outputs": [
    {
     "name": "stdin",
     "output_type": "stream",
     "text": [
      "Enter the Stock quantity 20\n",
      "Enter the price for the stock 200\n"
     ]
    },
    {
     "name": "stdout",
     "output_type": "stream",
     "text": [
      "Creating Stock with 20 units  Unknown Stock Name, price 200.0 each ,and code isweew \n",
      "\n",
      "Printing Item stock Information: \n",
      "Stock Category= Car acessories\n",
      "stock type=Unknown Stock Name\n",
      "Description=Unknown Stock Description\n",
      "Stock Code=weew\n",
      "Price without VAT=200.0\n",
      "Price with VAT=236.0 \n",
      "Unit in stock = 20\n"
     ]
    },
    {
     "name": "stdin",
     "output_type": "stream",
     "text": [
      "enter the stock quantity u want to add 10\n"
     ]
    },
    {
     "name": "stdout",
     "output_type": "stream",
     "text": [
      "\n",
      "\n",
      "Increasing 10 units of  Unknown Stock Name\n",
      "Printing Item stock Information: \n",
      "Stock Category= Car acessories\n",
      "stock type=Unknown Stock Name\n",
      "Description=Unknown Stock Description\n",
      "Stock Code=weew\n",
      "Price without VAT=200.0\n",
      "Price with VAT=236.0 \n",
      "Unit in stock = 30\n"
     ]
    },
    {
     "name": "stdout",
     "output_type": "stream",
     "text": [
      "Unknown Stock Name\n",
      "Unknown Stock Description\n",
      "Unknown Stock Name\n",
      "Unknown Stock Name\n",
      "Unknown Stock Description\n",
      "Creating Stock with 12 units  None, price 3.54 each ,and code isweew \n",
      " Printing Item stock Information: \n",
      " Stock Category= Car acessories\n",
      " stock type=None\n",
      " Description=None\n",
      "Stock Code=weew\n",
      "Price without VAT=3.54\n",
      "Price with VAT=None \n",
      "Unit in stock = 12\n"
     ]
    }
   ],
   "source": [
    "\n",
    "\n",
    "class Stockitem:\n",
    "\n",
    "    stock_category=\"Car acessories\"\n",
    "\n",
    "    def __init__(self,code):\n",
    "        self.__stock_code=code\n",
    "        self.__stock_quantity=\"\"\n",
    "        self.__stock_price=\"\"\n",
    "\n",
    "    \n",
    "    def getStockQuantityandprice(self):\n",
    "        self.__stock_quantity=int(input(\"Enter the Stock quantity\"))\n",
    "        self.__stock_price=float(input(\"Enter the price for the stock\"))\n",
    "\n",
    "    def setstockprice_withvat(self):\n",
    "        return self.__stock_price+(self.__stock_price*0.18)\n",
    "        \n",
    "    def getstockname(self):  \n",
    "        return \"Unknown Stock Name\"\n",
    "\n",
    "    def getStockDescription(self):\n",
    "        return \"Unknown Stock Description\"\n",
    "\n",
    "    def Display(self):\n",
    "        print(f\"Creating Stock with {self.__stock_quantity} units  {self.getstockname()}, price {self.__stock_price} each ,and code is{self.__stock_code} \\n\\nPrinting Item stock Information: \\nStock Category= {Stockitem.stock_category}\\nstock type={self.getstockname()}\\nDescription={self.getStockDescription()}\\nStock Code={self.__stock_code}\\nPrice without VAT={self.__stock_price}\\nPrice with VAT={self.setstockprice_withvat()} \\nUnit in stock = {self.__stock_quantity}\")\n",
    "\n",
    "    def get_quantity_to_increase(self):\n",
    "        self.incamount=int(input(\"enter the stock quantity u want to add\"))\n",
    "\n",
    "    def update_stock(self):\n",
    "        return self.__stock_quantity+self.incamount\n",
    "\n",
    "    def updatedisplay(self):\n",
    "        print(f\"\\n\\nIncreasing {self.incamount} units of  {self.getstockname()}\")\n",
    "        print(f\"Printing Item stock Information: \\nStock Category= {Stockitem.stock_category}\\nstock type={self.getstockname()}\\nDescription={self.getStockDescription()}\\nStock Code={self.__stock_code}\\nPrice without VAT={self.__stock_price}\\nPrice with VAT={self.setstockprice_withvat()} \\nUnit in stock = {self.update_stock()}\")\n",
    "\n",
    "        \n",
    "\n",
    "\n",
    "\n",
    "a=Stockitem(\"weew\")\n",
    "a.getStockQuantityandprice()\n",
    "a.setstockprice_withvat()\n",
    "a.Display()\n",
    "a.get_quantity_to_increase()\n",
    "a.update_stock()\n",
    "a.updatedisplay()"
   ]
  },
  {
   "cell_type": "code",
   "execution_count": null,
   "id": "ffe8a4ed-bd97-4bf7-8e5c-60d9495e432f",
   "metadata": {},
   "outputs": [],
   "source": []
  },
  {
   "cell_type": "code",
   "execution_count": null,
   "id": "53b76db6-cf61-4f8d-b40b-4449b68407c1",
   "metadata": {},
   "outputs": [],
   "source": []
  }
 ],
 "metadata": {
  "kernelspec": {
   "display_name": "Python 3 (ipykernel)",
   "language": "python",
   "name": "python3"
  },
  "language_info": {
   "codemirror_mode": {
    "name": "ipython",
    "version": 3
   },
   "file_extension": ".py",
   "mimetype": "text/x-python",
   "name": "python",
   "nbconvert_exporter": "python",
   "pygments_lexer": "ipython3",
   "version": "3.12.4"
  }
 },
 "nbformat": 4,
 "nbformat_minor": 5
}
