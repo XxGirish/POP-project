{
 "cells": [
  {
   "cell_type": "code",
   "execution_count": 4,
   "id": "1a996ac2-6537-4a7e-9a67-b4da09045915",
   "metadata": {},
   "outputs": [
    {
     "ename": "ValueError",
     "evalue": "invalid literal for int() with base 10: ''",
     "output_type": "error",
     "traceback": [
      "\u001b[1;31m---------------------------------------------------------------------------\u001b[0m",
      "\u001b[1;31mValueError\u001b[0m                                Traceback (most recent call last)",
      "Cell \u001b[1;32mIn[4], line 42\u001b[0m\n\u001b[0;32m     35\u001b[0m         \u001b[38;5;28mprint\u001b[39m(\u001b[38;5;124mf\u001b[39m\u001b[38;5;124m\"\u001b[39m\u001b[38;5;124mPrinting Item stock Information: \u001b[39m\u001b[38;5;130;01m\\n\u001b[39;00m\u001b[38;5;124mStock Category= \u001b[39m\u001b[38;5;132;01m{\u001b[39;00mStockitem\u001b[38;5;241m.\u001b[39mstock_category\u001b[38;5;132;01m}\u001b[39;00m\u001b[38;5;130;01m\\n\u001b[39;00m\u001b[38;5;124mstock type=\u001b[39m\u001b[38;5;132;01m{\u001b[39;00m\u001b[38;5;28mself\u001b[39m\u001b[38;5;241m.\u001b[39mgetstockname()\u001b[38;5;132;01m}\u001b[39;00m\u001b[38;5;130;01m\\n\u001b[39;00m\u001b[38;5;124mDescription=\u001b[39m\u001b[38;5;132;01m{\u001b[39;00m\u001b[38;5;28mself\u001b[39m\u001b[38;5;241m.\u001b[39mgetStockDescription()\u001b[38;5;132;01m}\u001b[39;00m\u001b[38;5;130;01m\\n\u001b[39;00m\u001b[38;5;124mStock Code=\u001b[39m\u001b[38;5;132;01m{\u001b[39;00m\u001b[38;5;28mself\u001b[39m\u001b[38;5;241m.\u001b[39m__stock_code\u001b[38;5;132;01m}\u001b[39;00m\u001b[38;5;130;01m\\n\u001b[39;00m\u001b[38;5;124mPrice without VAT=\u001b[39m\u001b[38;5;132;01m{\u001b[39;00m\u001b[38;5;28mself\u001b[39m\u001b[38;5;241m.\u001b[39m__stock_price\u001b[38;5;132;01m}\u001b[39;00m\u001b[38;5;130;01m\\n\u001b[39;00m\u001b[38;5;124mPrice with VAT=\u001b[39m\u001b[38;5;132;01m{\u001b[39;00m\u001b[38;5;28mself\u001b[39m\u001b[38;5;241m.\u001b[39msetstockprice_withvat()\u001b[38;5;132;01m}\u001b[39;00m\u001b[38;5;124m \u001b[39m\u001b[38;5;130;01m\\n\u001b[39;00m\u001b[38;5;124mUnit in stock = \u001b[39m\u001b[38;5;132;01m{\u001b[39;00m\u001b[38;5;28mself\u001b[39m\u001b[38;5;241m.\u001b[39mupdate_stock()\u001b[38;5;132;01m}\u001b[39;00m\u001b[38;5;124m\"\u001b[39m)\n\u001b[0;32m     41\u001b[0m a\u001b[38;5;241m=\u001b[39mStockitem(\u001b[38;5;124m\"\u001b[39m\u001b[38;5;124mweew\u001b[39m\u001b[38;5;124m\"\u001b[39m)\n\u001b[1;32m---> 42\u001b[0m \u001b[43ma\u001b[49m\u001b[38;5;241;43m.\u001b[39;49m\u001b[43mgetStockQuantityandprice\u001b[49m\u001b[43m(\u001b[49m\u001b[43m)\u001b[49m\n\u001b[0;32m     43\u001b[0m a\u001b[38;5;241m.\u001b[39msetstockprice_withvat()\n\u001b[0;32m     44\u001b[0m a\u001b[38;5;241m.\u001b[39mDisplay()\n",
      "Cell \u001b[1;32mIn[4], line 12\u001b[0m, in \u001b[0;36mStockitem.getStockQuantityandprice\u001b[1;34m(self)\u001b[0m\n\u001b[0;32m     11\u001b[0m \u001b[38;5;28;01mdef\u001b[39;00m \u001b[38;5;21mgetStockQuantityandprice\u001b[39m(\u001b[38;5;28mself\u001b[39m):\n\u001b[1;32m---> 12\u001b[0m     \u001b[38;5;28mself\u001b[39m\u001b[38;5;241m.\u001b[39m__stock_quantity\u001b[38;5;241m=\u001b[39m\u001b[38;5;28;43mint\u001b[39;49m\u001b[43m(\u001b[49m\u001b[38;5;28;43minput\u001b[39;49m\u001b[43m(\u001b[49m\u001b[38;5;124;43m\"\u001b[39;49m\u001b[38;5;124;43mEnter the Stock quantity\u001b[39;49m\u001b[38;5;124;43m\"\u001b[39;49m\u001b[43m)\u001b[49m\u001b[43m)\u001b[49m\n\u001b[0;32m     13\u001b[0m     \u001b[38;5;28mself\u001b[39m\u001b[38;5;241m.\u001b[39m__stock_price\u001b[38;5;241m=\u001b[39m\u001b[38;5;28mfloat\u001b[39m(\u001b[38;5;28minput\u001b[39m(\u001b[38;5;124m\"\u001b[39m\u001b[38;5;124mEnter the price for the stock\u001b[39m\u001b[38;5;124m\"\u001b[39m))\n",
      "\u001b[1;31mValueError\u001b[0m: invalid literal for int() with base 10: ''"
     ]
    }
   ],
   "source": [
    "\n",
    "\n",
    "class Stockitem:\n",
    "\n",
    "    stock_category=\"Car acessories\"\n",
    "\n",
    "    def __init__(self,code):\n",
    "        self.__stock_code=code\n",
    "        self.__stock_quantity=0\n",
    "        self.__stock_price=0\n",
    "\n",
    "    \n",
    "    def getStockQuantityandprice(self):\n",
    "        self.__stock_quantity=int(input(\"Enter the Stock quantity\"))\n",
    "        self.__stock_price=float(input(\"Enter the price for the stock\"))\n",
    "\n",
    "    def setstockprice_withvat(self):\n",
    "        return self.__stock_price+(self.__stock_price*0.18)\n",
    "        \n",
    "    def getstockname(self):  \n",
    "        return \"Unknown Stock Name\"\n",
    "\n",
    "    def getStockDescription(self):\n",
    "        return \"Unknown Stock Description\"\n",
    "\n",
    "    def Display(self):\n",
    "        print(f\"Creating Stock with {self.__stock_quantity} units  {self.getstockname()}, price {self.__stock_price} each ,and code is{self.__stock_code} \\n\\nPrinting Item stock Information: \\nStock Category= {Stockitem.stock_category}\\nstock type={self.getstockname()}\\nDescription={self.getStockDescription()}\\nStock Code={self.__stock_code}\\nPrice without VAT={self.__stock_price}\\nPrice with VAT={self.setstockprice_withvat()} \\nUnit in stock = {self.__stock_quantity}\")\n",
    "\n",
    "    def get_quantity_to_increase(self):\n",
    "        self.incamount=int(input(\"enter the stock quantity u want to add\"))\n",
    "\n",
    "    def update_stock(self):\n",
    "        return self.__stock_quantity+self.incamount\n",
    "\n",
    "    def updatedisplay(self):\n",
    "        print(f\"\\n\\nIncreasing {self.incamount} units of  {self.getstockname()}\")\n",
    "        print(f\"Printing Item stock Information: \\nStock Category= {Stockitem.stock_category}\\nstock type={self.getstockname()}\\nDescription={self.getStockDescription()}\\nStock Code={self.__stock_code}\\nPrice without VAT={self.__stock_price}\\nPrice with VAT={self.setstockprice_withvat()} \\nUnit in stock = {self.update_stock()}\")\n",
    "\n",
    "        \n",
    "\n",
    "\n",
    "\n",
    "a=Stockitem(\"weew\")\n",
    "a.getStockQuantityandprice()\n",
    "a.setstockprice_withvat()\n",
    "a.Display()\n",
    "a.get_quantity_to_increase()\n",
    "a.update_stock()\n",
    "a.updatedisplay()"
   ]
  },
  {
   "cell_type": "code",
   "execution_count": null,
   "id": "ffe8a4ed-bd97-4bf7-8e5c-60d9495e432f",
   "metadata": {},
   "outputs": [],
   "source": []
  },
  {
   "cell_type": "code",
   "execution_count": null,
   "id": "53b76db6-cf61-4f8d-b40b-4449b68407c1",
   "metadata": {},
   "outputs": [],
   "source": []
  }
 ],
 "metadata": {
  "kernelspec": {
   "display_name": "Python 3",
   "language": "python",
   "name": "python3"
  },
  "language_info": {
   "codemirror_mode": {
    "name": "ipython",
    "version": 3
   },
   "file_extension": ".py",
   "mimetype": "text/x-python",
   "name": "python",
   "nbconvert_exporter": "python",
   "pygments_lexer": "ipython3",
   "version": "3.12.4"
  }
 },
 "nbformat": 4,
 "nbformat_minor": 5
}
