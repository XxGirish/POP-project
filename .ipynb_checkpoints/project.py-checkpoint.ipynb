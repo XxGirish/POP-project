{
 "cells": [
  {
   "cell_type": "code",
   "execution_count": 34,
   "id": "daf6b738-944c-49de-996a-1340496ccb1b",
   "metadata": {},
   "outputs": [
    {
     "name": "stdin",
     "output_type": "stream",
     "text": [
      "Enter the Stock quantity 12\n",
      "Enter the price for the stock 100\n"
     ]
    },
    {
     "name": "stdout",
     "output_type": "stream",
     "text": [
      "Created Stock with 12 units  Unknown Stock Name, price 100.0 each ,and code isweew\n",
      "\n",
      "\n"
     ]
    },
    {
     "name": "stdin",
     "output_type": "stream",
     "text": [
      "Enter your choice :(1-4) \n",
      "1.Display stock information \n",
      "2.Increase Stock quantity \n",
      "3.Update quantity after sell \n",
      "4.Set new price for stock 4\n",
      "\n",
      "\n",
      "enter the new price of the item 50000\n"
     ]
    },
    {
     "name": "stdout",
     "output_type": "stream",
     "text": [
      "Printing Item stock Information: \n",
      "\n",
      "\n",
      "Stock Category= Car acessories\n",
      "stock type=Unknown Stock Name\n",
      "Description=Unknown Stock Description\n",
      "Stock Code=weew\n",
      "Price without VAT=50000\n",
      "Price with VAT=59000.0\n",
      "Unit in stock = 12\n"
     ]
    }
   ],
   "source": [
    "class Stockitem:\n",
    "\n",
    "    stock_category=\"Car acessories\"\n",
    "\n",
    "    def __init__(self,code):\n",
    "        self.__stock_code=code\n",
    "        self.__stock_quantity=\"\"\n",
    "        self.__stock_price=\"\"\n",
    "\n",
    "    \n",
    "    def getStockQuantityandprice(self):\n",
    "        self.__stock_quantity=int(input(\"Enter the Stock quantity\"))\n",
    "        self.__stock_price=float(input(\"Enter the price for the stock\"))\n",
    "        print(f\"Created Stock with {self.__stock_quantity} units  {self.getstockname()}, price {self.__stock_price} each ,and code is{self.__stock_code}\\n\\n\")\n",
    "\n",
    "    def setstockprice_withvat(self):\n",
    "        return self.__stock_price+(self.__stock_price*0.175)\n",
    "        \n",
    "    def getstockname(self):  \n",
    "        return \"Unknown Stock Name\"\n",
    "\n",
    "    def getStockDescription(self):\n",
    "        return \"Unknown Stock Description\"\n",
    "\n",
    "    def increase_stock(self):\n",
    "         self.__stock_quantity=self.__stock_quantity+self.incamount\n",
    "         return self.__stock_quantity\n",
    "\n",
    "    def decrease_stock(self):\n",
    "         self.__stock_quantity=self.__stock_quantity-self.decamount\n",
    "         return self.__stock_quantity\n",
    "\n",
    "    def update_price(self):\n",
    "        self.__stock_price=self.newprice\n",
    "    \n",
    "\n",
    "    def __str__(self):\n",
    "        return (f\"\\nStock Category= {Stockitem.stock_category}\"\n",
    "                f\"\\nstock type={self.getstockname()}\"\n",
    "                f\"\\nDescription={self.getStockDescription()}\"\n",
    "                f\"\\nStock Code={self.__stock_code}\"\n",
    "                f\"\\nPrice without VAT={self.__stock_price}\"\n",
    "                f\"\\nPrice with VAT={self.setstockprice_withvat()}\" \n",
    "                f\"\\nUnit in stock = {self.__stock_quantity}\")\n",
    "\n",
    "    def get_quantity_to_increase(self):\n",
    "        self.incamount=int(input(\"enter the stock quantity u want to add\"))\n",
    "        if (self.incamount<1 or self.incamount<100):\n",
    "            \n",
    "                 self.increase_stock()\n",
    "                 print(f\"\\n\\nIncreasing {self.incamount} units of  {self.getstockname()}\\n Printing stock information\\n\")\n",
    "                 print(a)\n",
    "\n",
    "        else:\n",
    "            print(\"Error!!(please enter quantity between 0-100)\")\n",
    "   \n",
    "\n",
    "    def get_quantitysold(self):\n",
    "        self.decamount=int(input(\"enter the stock quantity sold\"))\n",
    "        if (self.decamount<self.__stock_quantity ):\n",
    "             self.decrease_stock()\n",
    "             print(f\"\\n\\nDecreasing{self.incamount} units of  {self.getstockname()}\\n Printing stock information\\n\")\n",
    "             print(a)\n",
    "            \n",
    "\n",
    "    def getnewprice(self):\n",
    "        self.newprice=int(input(\"\\n\\nenter the new price of the item\"))\n",
    "        self.update_price()\n",
    "        print(f\"Printing Item stock Information: \\n\")\n",
    "        print(a)\n",
    "        \n",
    "        \n",
    "\n",
    "\n",
    "\n",
    "\n",
    "\n",
    "a=Stockitem(\"weew\")\n",
    "a.getStockQuantityandprice()\n",
    "a.setstockprice_withvat()\n",
    "option=int(input(\"Enter your choice :(1-4) \\n1.Display stock information \\n2.Increase Stock quantity \\n3.Update quantity after sell \\n4.Set new price for stock\"))\n",
    "\n",
    "if option==1:\n",
    "    print(a)\n",
    "elif option==2:\n",
    "    a.get_quantity_to_increase()\n",
    "elif option==3:\n",
    "    a.get_quantitysold()\n",
    "\n",
    "elif option==4:\n",
    "    a.getnewprice()\n",
    "\n",
    "else:\n",
    "    print(\"no such option exists!!\")"
   ]
  },
  {
   "cell_type": "code",
   "execution_count": null,
   "id": "ffe8a4ed-bd97-4bf7-8e5c-60d9495e432f",
   "metadata": {},
   "outputs": [],
   "source": []
  },
  {
   "cell_type": "code",
   "execution_count": null,
   "id": "53b76db6-cf61-4f8d-b40b-4449b68407c1",
   "metadata": {},
   "outputs": [],
   "source": []
  }
 ],
 "metadata": {
  "kernelspec": {
   "display_name": "Python 3 (ipykernel)",
   "language": "python",
   "name": "python3"
  },
  "language_info": {
   "codemirror_mode": {
    "name": "ipython",
    "version": 3
   },
   "file_extension": ".py",
   "mimetype": "text/x-python",
   "name": "python",
   "nbconvert_exporter": "python",
   "pygments_lexer": "ipython3",
   "version": "3.13.1"
  }
 },
 "nbformat": 4,
 "nbformat_minor": 5
}
