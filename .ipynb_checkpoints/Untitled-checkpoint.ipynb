{
 "cells": [
  {
   "cell_type": "code",
   "execution_count": 39,
   "id": "1a996ac2-6537-4a7e-9a67-b4da09045915",
   "metadata": {},
   "outputs": [
    {
     "name": "stdin",
     "output_type": "stream",
     "text": [
      "Enter the Stock quantity 12\n",
      "Enter the price for the stock 3\n"
     ]
    },
    {
     "name": "stdout",
     "output_type": "stream",
     "text": [
      "Unknown Stock Name\n",
      "Unknown Stock Description\n",
      "Unknown Stock Name\n",
      "Unknown Stock Name\n",
      "Unknown Stock Description\n",
      "Creating Stock with 12 units  None, price 3.54 each ,and code isweew \n",
      " Printing Item stock Information: \n",
      " Stock Category= Car acessories\n",
      " stock type=None\n",
      " Description=None\n",
      "Stock Code=weew\n",
      "Price without VAT=3.54\n",
      "Price with VAT=None \n",
      "Unit in stock = 12\n"
     ]
    }
   ],
   "source": [
    "\n",
    "\n",
    "class Stockitem:\n",
    "\n",
    "    stock_category=\"Car acessories\"\n",
    "\n",
    "    def __init__(self,code):\n",
    "        self.__stock_code=code\n",
    "        self.__stock_quantity=None\n",
    "        self.__stock_price=None\n",
    "\n",
    "    #setters\n",
    "    def setStockQuantity(self):\n",
    "        self.__stock_quantity=int(input(\"Enter the Stock quantity\"))\n",
    "\n",
    "    def setstockprice(self):\n",
    "        self.__stock_price=float(input(\"Enter the price for the stock\"))\n",
    "\n",
    "    def setstockprice_withvat(self):\n",
    "        self.__stock_price=self.__stock_price+(self.__stock_price*0.18)\n",
    "\n",
    "    def getstockname(self):\n",
    "        \n",
    "        print(\"Unknown Stock Name\")\n",
    "\n",
    "    def getStockDescription(self):\n",
    "        print(\"Unknown Stock Description\")\n",
    "\n",
    "    def Display(self):\n",
    "       \n",
    "        print(f\"Creating Stock with {self.__stock_quantity} units  {self.getstockname()}, price {self.__stock_price} each ,and code is{self.__stock_code} \\n Printing Item stock Information: \\n Stock Category= {Stockitem.stock_category}\\n stock type={self.getstockname()}\\n Description={self.getStockDescription()}\\nStock Code={self.__stock_code}\\nPrice without VAT={self.__stock_price}\\nPrice with VAT={self.setstockprice_withvat()} \\nUnit in stock = {self.__stock_quantity}\")\n",
    "\n",
    "    \n",
    "\n",
    "   \n",
    "        \n",
    "        \n",
    "\n",
    "\n",
    "\n",
    "\n",
    "a=Stockitem(\"weew\")\n",
    "a.setStockQuantity()\n",
    "a.setstockprice()\n",
    "\n",
    "\n",
    "a.setstockprice_withvat()\n",
    "z\n",
    "a.Display()"
   ]
  },
  {
   "cell_type": "code",
   "execution_count": null,
   "id": "ffe8a4ed-bd97-4bf7-8e5c-60d9495e432f",
   "metadata": {},
   "outputs": [],
   "source": []
  },
  {
   "cell_type": "code",
   "execution_count": null,
   "id": "53b76db6-cf61-4f8d-b40b-4449b68407c1",
   "metadata": {},
   "outputs": [],
   "source": []
  }
 ],
 "metadata": {
  "kernelspec": {
   "display_name": "Python 3 (ipykernel)",
   "language": "python",
   "name": "python3"
  },
  "language_info": {
   "codemirror_mode": {
    "name": "ipython",
    "version": 3
   },
   "file_extension": ".py",
   "mimetype": "text/x-python",
   "name": "python",
   "nbconvert_exporter": "python",
   "pygments_lexer": "ipython3",
   "version": "3.13.1"
  }
 },
 "nbformat": 4,
 "nbformat_minor": 5
}
